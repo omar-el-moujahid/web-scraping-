{
 "cells": [
  {
   "cell_type": "code",
   "execution_count": 3,
   "id": "647fc66a-c59d-4563-899f-4e02838a8463",
   "metadata": {},
   "outputs": [],
   "source": [
    "import pandas as pd\n",
    "import json "
   ]
  },
  {
   "cell_type": "code",
   "execution_count": null,
   "id": "cea9d5e5-c542-47da-a99e-6ebcc308d8e5",
   "metadata": {},
   "outputs": [],
   "source": [
    "with open(\"nameoffile.json\",r) as openfile:\n",
    "    json_file=json.load(openfile)\n"
   ]
  },
  {
   "cell_type": "markdown",
   "id": "164a86e0-e24c-4d8a-9d2a-6d355bf0613f",
   "metadata": {},
   "source": [
    "# for XML"
   ]
  },
  {
   "cell_type": "code",
   "execution_count": null,
   "id": "2e318f4f-e4e9-42ea-ad1e-d0621da242e0",
   "metadata": {},
   "outputs": [],
   "source": [
    "import xml.etree.ElementTree as entree\n",
    "tree=etree.parse('filename.xml')\n",
    "root=tree.getroot()\n",
    "#give columns names\n",
    "colmns=[\"\",\"\"]\n",
    "df=pd.DataFrame( colmns=colmns)\n",
    "# read the file and append it to the dataframe "
   ]
  }
 ],
 "metadata": {
  "kernelspec": {
   "display_name": "Python 3 (ipykernel)",
   "language": "python",
   "name": "python3"
  },
  "language_info": {
   "codemirror_mode": {
    "name": "ipython",
    "version": 3
   },
   "file_extension": ".py",
   "mimetype": "text/x-python",
   "name": "python",
   "nbconvert_exporter": "python",
   "pygments_lexer": "ipython3",
   "version": "3.12.4"
  }
 },
 "nbformat": 4,
 "nbformat_minor": 5
}
